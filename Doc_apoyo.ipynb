{
 "cells": [
  {
   "cell_type": "markdown",
   "id": "5f9e4d7d-c83f-4ad4-91fb-fc219ec3e30d",
   "metadata": {},
   "source": [
    "# Documento de apoyo\n"
   ]
  },
  {
   "cell_type": "code",
   "execution_count": null,
   "id": "a5fd2480-98d3-420d-a555-caf63002fdd4",
   "metadata": {},
   "outputs": [],
   "source": [
    "se lee el archivo con la ejecución del pipeline "
   ]
  },
  {
   "cell_type": "code",
   "execution_count": 1,
   "id": "550a1306-d1c2-49f0-b86c-84083859cac4",
   "metadata": {},
   "outputs": [
    {
     "name": "stdout",
     "output_type": "stream",
     "text": [
      "     graph  node        sol  distance  iter      time              date\n",
      "0        1     0  [2, 1, 2]         1    14  0.000230  2022-04-16 18:48\n",
      "1        1     0  [2, 1, 2]         5    15  0.000181  2022-04-16 18:48\n",
      "2        1     0  [2, 1, 2]        10    16  0.000175  2022-04-16 18:48\n",
      "3        1     0  [2, 1, 2]        20    16  0.000168  2022-04-16 18:48\n",
      "4        1     0  [2, 1, 2]        50    16  0.000168  2022-04-16 18:48\n",
      "..     ...   ...        ...       ...   ...       ...               ...\n",
      "121      3     7  [3, 2, 3]         5    23  0.000787  2022-04-16 18:48\n",
      "122      3     7  [3, 2, 3]        10    23  0.000860  2022-04-16 18:48\n",
      "123      3     7  [3, 2, 3]        20    23  0.000763  2022-04-16 18:48\n",
      "124      3     7  [3, 2, 3]        50    22  0.000500  2022-04-16 18:48\n",
      "125      3     7  [3, 2, 3]       100    22  0.000499  2022-04-16 18:48\n",
      "\n",
      "[126 rows x 7 columns]\n"
     ]
    }
   ],
   "source": [
    "import pandas as pd\n",
    " \n",
    "tabla = pd.read_csv(\"tabla_reporte.csv\")\n",
    " \n",
    "print(tabla)"
   ]
  },
  {
   "cell_type": "markdown",
   "id": "fbb8dd4b-f96b-43ff-920c-1924e5e85ec3",
   "metadata": {},
   "source": [
    "### primer error dectado"
   ]
  },
  {
   "cell_type": "markdown",
   "id": "f9a03223-42e7-47b4-a8d7-d4396f313e5d",
   "metadata": {},
   "source": [
    "Al proporcionar como parametro de la funcion  un nodo inicial mayor al número de nodos\n",
    "\n",
    "get_data_sol_seg_param(G1,7)"
   ]
  },
  {
   "cell_type": "markdown",
   "id": "6dd024bc-eeee-4382-b66e-3f1e6ea6e4b9",
   "metadata": {},
   "source": [
    "se produce un  error"
   ]
  },
  {
   "cell_type": "markdown",
   "id": "bf41ef4b-76cb-411d-a879-e0e57e3fd2fd",
   "metadata": {},
   "source": [
    "---------------------------------------------------------------------------\n",
    "IndexError                                Traceback (most recent call last)\n",
    "/tmp/ipykernel_105/480866596.py in <module>\n",
    "      1 print('\\n\\nVariación nodo inicial en nodo 2, Grafo1 \\n\\n')\n",
    "----> 2 get_data_sol_seg_param(G1,7)\n",
    "\n",
    "/tmp/ipykernel_105/639767987.py in get_data_sol_seg_param(Grafo, node_ini, distance_ini)\n",
    "     87     # Aplicando método Bellman ford modificado para monioreo de parámetros\n",
    "     88     start_time = time.time()\n",
    "---> 89     c,lv,p = bf_negative_cycle(Grafo, node_ini, distance_ini)\n",
    "     90     time_exec = (time.time() - start_time)\n",
    "     91 \n",
    "\n",
    "/tmp/ipykernel_105/639767987.py in bf_negative_cycle(graph, node_ini, distance_ini)\n",
    "     36     # Initialize distances of nodes and predecessors\n",
    "     37     distance= np.ones(n) * distance_ini # Starting distances with infinite values\n",
    "---> 38     distance[n_nodes] = 0  # Starting node has zero distance\n",
    "     39     predecessors = np.ones(n) * -1  # Starting predecessors with -1 values\n",
    "     40 \n",
    "\n",
    "IndexError: index 7 is out of bounds for axis 0 with size 5"
   ]
  },
  {
   "cell_type": "markdown",
   "id": "aa52c7aa-9050-4b37-9165-a6ab6c687c3f",
   "metadata": {},
   "source": [
    "Por lo tanto es necesario que se haga una validación del parametro del nodo antes de ejecutar la función, si el valor dado es mayor al número de nodos no se debe de ejecutar.\n"
   ]
  }
 ],
 "metadata": {
  "kernelspec": {
   "display_name": "Python 3 (ipykernel)",
   "language": "python",
   "name": "python3"
  },
  "language_info": {
   "codemirror_mode": {
    "name": "ipython",
    "version": 3
   },
   "file_extension": ".py",
   "mimetype": "text/x-python",
   "name": "python",
   "nbconvert_exporter": "python",
   "pygments_lexer": "ipython3",
   "version": "3.8.10"
  }
 },
 "nbformat": 4,
 "nbformat_minor": 5
}
